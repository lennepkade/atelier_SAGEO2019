{
 "cells": [
  {
   "cell_type": "markdown",
   "metadata": {},
   "source": [
    "# Bases de rasterMath\n",
    "rasterMath est la base de MuseoToolBox pour lire et écrire les fichiers raster (images)."
   ]
  },
  {
   "cell_type": "code",
   "execution_count": 4,
   "metadata": {},
   "outputs": [],
   "source": [
    "import museotoolbox as mtb"
   ]
  },
  {
   "cell_type": "code",
   "execution_count": 5,
   "metadata": {},
   "outputs": [
    {
     "name": "stdout",
     "output_type": "stream",
     "text": [
      "1.6.6\n"
     ]
    }
   ],
   "source": [
    "print(mtb.__version__)"
   ]
  },
  {
   "cell_type": "code",
   "execution_count": 13,
   "metadata": {},
   "outputs": [
    {
     "name": "stdout",
     "output_type": "stream",
     "text": [
      "Help on function historicalMap in module museotoolbox.datasets:\n",
      "\n",
      "historicalMap(return_X_y=False, return_X_y_g=False, centroid=False, low_res=False)\n",
      "    Get a sample of a french Historical map made by the army (carte d'état-major).\n",
      "    These maps are used to identify forest in the 1800's.\n",
      "    \n",
      "    Field of the vector containning the label class is `Class`.\n",
      "    \n",
      "    ===================   ==============\n",
      "    Classes                            5\n",
      "    Samples total                  12647\n",
      "    Number of polygons                17\n",
      "    Dimensionality                     3\n",
      "    Features                     integer\n",
      "    ===================   ==============\n",
      "    \n",
      "    \n",
      "    Parameters\n",
      "    -----------\n",
      "    return_X_y : boolean, default=False.\n",
      "        If True, returns ``(data, target)`` instead of a path of files.\n",
      "    centroid : boolean, default=False.\n",
      "        If True, return the path of the centroid for each feature.\n",
      "    \n",
      "    Returns\n",
      "    -------\n",
      "    raster,vector : list of str.\n",
      "        Return path of raster and vector files.\n",
      "    (data, target) : tuple if ``return_X_y`` is True\n",
      "    \n",
      "    References\n",
      "    -----------\n",
      "    https://github.com/nkarasiak/HistoricalMap\n",
      "    \n",
      "    Examples\n",
      "    --------\n",
      "    >>> X, y = getHistoricalMap(return_X_y=True)\n",
      "    >>> X.shape, y.shape\n",
      "    (12647, 3) (12647,)\n",
      "    >>> raster,vector = getHistoricalMap()\n",
      "    >>> raster\n",
      "    /mnt/DATA/lib/MuseoToolBox/museotoolbox/datasets/historicalmap/map_compress.tif\n",
      "    >>> vector\n",
      "    /mnt/DATA/lib/MuseoToolBox/museotoolbox/datasets/historicalmap/train.gpkg\n",
      "\n"
     ]
    }
   ],
   "source": [
    "help(mtb.datasets.historicalMap)"
   ]
  },
  {
   "cell_type": "code",
   "execution_count": 17,
   "metadata": {},
   "outputs": [
    {
     "name": "stdout",
     "output_type": "stream",
     "text": [
      "/mnt/DATA/lib/MuseoToolBox/museotoolbox/datasets/historicalmap/map_compress.tif \n",
      " /mnt/DATA/lib/MuseoToolBox/museotoolbox/datasets/historicalmap/train.gpkg\n"
     ]
    }
   ],
   "source": [
    "raster,vector = mtb.datasets.historicalMap()\n",
    "print(raster,'\\n',vector)"
   ]
  }
 ],
 "metadata": {
  "kernelspec": {
   "display_name": "Python 3",
   "language": "python",
   "name": "python3"
  },
  "language_info": {
   "codemirror_mode": {
    "name": "ipython",
    "version": 3
   },
   "file_extension": ".py",
   "mimetype": "text/x-python",
   "name": "python",
   "nbconvert_exporter": "python",
   "pygments_lexer": "ipython3",
   "version": "3.6.8"
  }
 },
 "nbformat": 4,
 "nbformat_minor": 2
}
